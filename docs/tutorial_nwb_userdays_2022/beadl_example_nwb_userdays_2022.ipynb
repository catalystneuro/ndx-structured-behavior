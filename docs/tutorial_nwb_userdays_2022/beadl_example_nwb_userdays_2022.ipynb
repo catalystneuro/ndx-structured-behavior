{
 "cells": [
  {
   "cell_type": "code",
   "execution_count": null,
   "id": "129a2eb0",
   "metadata": {},
   "outputs": [],
   "source": [
    "# General imports\n",
    "import os\n",
    "from IPython.display import Image\n",
    "\n",
    "# Import required for data conversion\n",
    "from ndx_beadl import (Task, BEADLTaskProgram, BEADLTaskSchema, EventTypesTable, EventsTable,\n",
    "                       StateTypesTable, StatesTable, TrialsTable, ActionTypesTable, ActionsTable, TaskArgumentsTable)\n",
    "from ndx_beadl.beadl_xml_parser import BeadlXMLParser\n",
    "from pynwb import NWBHDF5IO, NWBFile\n",
    "from pynwb.file import Subject\n",
    "import datetime\n",
    "\n",
    "# Imports and helper functions for visualization\n",
    "from ndx_beadl.plot import (plot_events, plot_actions, plot_states, plot_trials,\n",
    "                            compute_state_transition_matrix, plot_state_transition_graph)\n",
    "%matplotlib inline\n",
    "import matplotlib as mpl\n",
    "from matplotlib import pyplot as plt\n",
    "\n",
    "# Define the paths for the input data files\n",
    "beadl_schema_file = os.path.abspath(os.path.join(os.getcwd(), \"../../src/pynwb/tests/BEADL.xsd\"))\n",
    "beadl_task_file = os.path.abspath(os.path.join(os.getcwd(), \"../../src/pynwb/tests/LightChasingTask.xml\"))\n",
    "beadl_path=os.path.abspath(os.path.join(os.getcwd(), \"BeadlData.mat\"))\n",
    "\n",
    "# Define the path for the NWB file to write and clean-up if file exists\n",
    "nwb_filepath = \"beadl_test.nwb\"\n",
    "if os.path.exists(nwb_filepath):\n",
    "    os.remove(nwb_filepath)"
   ]
  },
  {
   "cell_type": "markdown",
   "id": "38b82b87-c80d-4af2-83ee-5bce1dc42655",
   "metadata": {},
   "source": [
    "# 1. Overview of the ndx-beadl NWB extension"
   ]
  },
  {
   "cell_type": "markdown",
   "id": "03c48519-5ce5-4416-a8c6-44b58b9814ea",
   "metadata": {},
   "source": [
    "The *ndx_beadl* extension is available online at https://github.com/rly/ndx-beadl/ . The extension defines a collection of interlinked table data structures for storing behavioral tasks and data. While the extension has been designed with BEADL in mind, the data structures are general and are intended to be useful even without BEADL. The data model consists of three main components:"
   ]
  },
  {
   "cell_type": "code",
   "execution_count": null,
   "id": "4b1a66b9-387d-45a1-975f-396010088adf",
   "metadata": {},
   "outputs": [],
   "source": [
    "Image(filename=\"beadl_components_p1.png\")"
   ]
  },
  {
   "cell_type": "code",
   "execution_count": null,
   "id": "abc58b47",
   "metadata": {},
   "outputs": [],
   "source": [
    "Image(filename=\"beadl_components_p2.png\", width=700)"
   ]
  },
  {
   "cell_type": "markdown",
   "id": "1dbd07a9-2751-4333-a841-2fee94a95170",
   "metadata": {},
   "source": [
    "# 2. Converting BEADL data to NWB"
   ]
  },
  {
   "cell_type": "markdown",
   "id": "4ab29e98-a480-405e-913b-5bfe9d1a7e82",
   "metadata": {},
   "source": [
    "## 2.1 Task metadata\n",
    "#### 2.1.1 Import the BEADL task schema and task program"
   ]
  },
  {
   "cell_type": "code",
   "execution_count": null,
   "id": "dcf8e669",
   "metadata": {},
   "outputs": [],
   "source": [
    "with open(beadl_schema_file, \"r\") as test_xsd_file:\n",
    "    test_xsd = test_xsd_file.read()\n",
    "\n",
    "with open(beadl_task_file, \"r\") as test_xml_file:\n",
    "    test_xml = test_xml_file.read()"
   ]
  },
  {
   "cell_type": "code",
   "execution_count": null,
   "id": "7fe04478",
   "metadata": {},
   "outputs": [],
   "source": [
    "beadl_task_schema = BEADLTaskSchema(\n",
    "    name = 'beadl_task_schema',\n",
    "    data=test_xsd,\n",
    "    version=\"0.1.0\",\n",
    "    language=\"XSD\"\n",
    ")\n",
    "\n",
    "beadl_task_program = BEADLTaskProgram(\n",
    "    name = 'beadl_task_program',\n",
    "    data=test_xml,\n",
    "    schema=beadl_task_schema,\n",
    "    language=\"XML\"\n",
    ")"
   ]
  },
  {
   "cell_type": "code",
   "execution_count": null,
   "id": "9dc0b90d",
   "metadata": {},
   "outputs": [],
   "source": [
    "task_arg_table=TaskArgumentsTable(beadl_task_program=beadl_task_program, populate_from_program=True)"
   ]
  },
  {
   "cell_type": "code",
   "execution_count": null,
   "id": "ce8a3e0f",
   "metadata": {},
   "outputs": [],
   "source": [
    "display(task_arg_table.to_dataframe(index=True))\n"
   ]
  },
  {
   "cell_type": "markdown",
   "id": "c9c986d3-b994-4a8d-bb60-511adae2b6cc",
   "metadata": {},
   "source": [
    "#### 2.1.2 Create the EventTypes, ActionTypes, and StateType tables from the task program"
   ]
  },
  {
   "cell_type": "code",
   "execution_count": null,
   "id": "72c584c9",
   "metadata": {},
   "outputs": [],
   "source": [
    "event_types = EventTypesTable(description=\"description\", beadl_task_program=beadl_task_program, populate_from_program=True)"
   ]
  },
  {
   "cell_type": "code",
   "execution_count": null,
   "id": "48a62009",
   "metadata": {},
   "outputs": [],
   "source": [
    "action_types= ActionTypesTable(description=\"description\", beadl_task_program=beadl_task_program, populate_from_program=True)"
   ]
  },
  {
   "cell_type": "code",
   "execution_count": null,
   "id": "80a147de",
   "metadata": {},
   "outputs": [],
   "source": [
    "state_types = StateTypesTable(description=\"description\", beadl_task_program=beadl_task_program, populate_from_program=True)"
   ]
  },
  {
   "cell_type": "code",
   "execution_count": null,
   "id": "3ab392cf-ff31-44a9-b9b2-7928b26f0ea5",
   "metadata": {},
   "outputs": [],
   "source": [
    "display(event_types.to_dataframe(index=True))\n",
    "display(action_types.to_dataframe(index=True))\n",
    "display(state_types.to_dataframe(index=True))"
   ]
  },
  {
   "cell_type": "markdown",
   "id": "5db73ecb-b8d3-4c4c-8d67-a5bb353fdd05",
   "metadata": {},
   "source": [
    "#### 2.1.3 Create a new Tasks object and add the BEADL task metadata"
   ]
  },
  {
   "cell_type": "code",
   "execution_count": null,
   "id": "bb419c9e-c151-4153-b308-77b1de3cd42f",
   "metadata": {},
   "outputs": [],
   "source": [
    "task = Task(\n",
    "    beadl_task_program=beadl_task_program,\n",
    "    beadl_task_schema=beadl_task_schema,\n",
    "    event_types=event_types,\n",
    "    state_types=state_types,\n",
    "    action_types=action_types,\n",
    "    task_arguments=task_arg_table\n",
    ")"
   ]
  },
  {
   "cell_type": "markdown",
   "id": "b1938ee9-408e-4b41-b182-d9087b05e876",
   "metadata": {},
   "source": [
    "## 2.2 Behavioral data\n",
    "#### 2.2.1 Create Events, Actions, and States"
   ]
  },
  {
   "cell_type": "code",
   "execution_count": null,
   "id": "315fdc1f",
   "metadata": {},
   "outputs": [],
   "source": [
    "events = EventsTable(description=\"description\", event_types_table=event_types)\n",
    "_ = events.populate_from_matlab(data_path=beadl_path)"
   ]
  },
  {
   "cell_type": "code",
   "execution_count": null,
   "id": "14274fde",
   "metadata": {},
   "outputs": [],
   "source": [
    "actions = ActionsTable(description=\"description\", action_types_table=action_types)\n",
    "_ = actions.populate_from_matlab(data_path=beadl_path)"
   ]
  },
  {
   "cell_type": "code",
   "execution_count": null,
   "id": "2c94a2f3",
   "metadata": {},
   "outputs": [],
   "source": [
    "states = StatesTable(description=\"description\", state_types_table=state_types)\n",
    "_ = states.populate_from_matlab(data_path=beadl_path)"
   ]
  },
  {
   "cell_type": "code",
   "execution_count": null,
   "id": "d461e4c2-5efd-4f6b-88d9-a0729462b0e4",
   "metadata": {},
   "outputs": [],
   "source": [
    "events.to_dataframe(index=True)"
   ]
  },
  {
   "cell_type": "code",
   "execution_count": null,
   "id": "64f88c0b-d1d9-471e-be0a-3a6f18ee3c59",
   "metadata": {},
   "outputs": [],
   "source": [
    "actions.to_dataframe(index=True)"
   ]
  },
  {
   "cell_type": "code",
   "execution_count": null,
   "id": "7a2bacef-466d-451e-b73b-fc0250663187",
   "metadata": {},
   "outputs": [],
   "source": [
    "states.to_dataframe(index=True)"
   ]
  },
  {
   "cell_type": "markdown",
   "id": "00eca914-598c-45c3-ad8f-670d064f3bc3",
   "metadata": {},
   "source": [
    "#### 2.2.2 Trial data"
   ]
  },
  {
   "cell_type": "code",
   "execution_count": null,
   "id": "64a12cbb",
   "metadata": {},
   "outputs": [],
   "source": [
    "trials = TrialsTable(description=\"description\", states_table=states, events_table=events, actions_table=actions)\n",
    "_ = trials.populate_from_matlab(data_path=beadl_path)"
   ]
  },
  {
   "cell_type": "code",
   "execution_count": null,
   "id": "6b766ed8",
   "metadata": {},
   "outputs": [],
   "source": [
    "trials.to_dataframe(index=True)"
   ]
  },
  {
   "cell_type": "markdown",
   "id": "149f0ed2-771f-43dd-b58e-8f2760ed43ac",
   "metadata": {},
   "source": [
    "## 2.3 Creating the NWB file\n",
    "#### 2.3.1 Create a new NWB file"
   ]
  },
  {
   "cell_type": "code",
   "execution_count": null,
   "id": "2e00eb4a",
   "metadata": {},
   "outputs": [],
   "source": [
    "nwbfile = NWBFile(\n",
    "        session_description=\"session_description\",\n",
    "        identifier=\"LightChasingTask\",\n",
    "        session_start_time=datetime.datetime.now(datetime.timezone.utc),\n",
    "        subject=Subject(subject_id=\"SP_W2_RH\")\n",
    "    )"
   ]
  },
  {
   "cell_type": "markdown",
   "id": "5a581639-756d-463d-8b57-075b9a3b38c1",
   "metadata": {},
   "source": [
    "#### 2.3.2 Add the BEADL behavioral data to the file"
   ]
  },
  {
   "cell_type": "code",
   "execution_count": null,
   "id": "8970bf3a",
   "metadata": {},
   "outputs": [],
   "source": [
    "%%capture\n",
    "# Add the task\n",
    "nwbfile.add_lab_meta_data(task)"
   ]
  },
  {
   "cell_type": "code",
   "execution_count": null,
   "id": "6100de48-65db-4f46-bebc-0794851ae39e",
   "metadata": {},
   "outputs": [],
   "source": [
    "# Add the StatesTable, EventsTable, and ActionsTable to the acquistion\n",
    "nwbfile.add_acquisition(states)\n",
    "nwbfile.add_acquisition(events)\n",
    "nwbfile.add_acquisition(actions)"
   ]
  },
  {
   "cell_type": "code",
   "execution_count": null,
   "id": "60444a1d-4df0-4a69-9f85-8e369b42ca2a",
   "metadata": {},
   "outputs": [],
   "source": [
    "# Add the trials (Note, for custom TimeIntervals we can use nwbfile.add_time_intervals as well)\n",
    "nwbfile.trials = trials"
   ]
  },
  {
   "cell_type": "markdown",
   "id": "2235da57-cff4-4d7d-8690-aa8c2f48783e",
   "metadata": {},
   "source": [
    "#### 2.3.3 Write the NWB file"
   ]
  },
  {
   "cell_type": "code",
   "execution_count": null,
   "id": "d112cb17",
   "metadata": {},
   "outputs": [],
   "source": [
    "with NWBHDF5IO(nwb_filepath, mode=\"w\") as io:\n",
    "    io.write(nwbfile)"
   ]
  },
  {
   "cell_type": "markdown",
   "id": "8ec43e2e-33ba-4e0e-a180-b3b36d5328c2",
   "metadata": {},
   "source": [
    "# 3. Using BEADL data stored in NWB"
   ]
  },
  {
   "cell_type": "markdown",
   "id": "121ff35c-107c-415d-9c2c-f4faf798b646",
   "metadata": {},
   "source": [
    "## 3.1 Read the NWB file"
   ]
  },
  {
   "cell_type": "markdown",
   "id": "d6127bf3-d93d-455b-bde0-9fb5d3c5f987",
   "metadata": {},
   "source": [
    "Since we have here the *ndx_beadl* extension install we can just open the file as usual. If the *ndx_beadl* extension is not installed then we need to set ``load_namespaces=True`` when creating the ``NWBHDF5IO`` object."
   ]
  },
  {
   "cell_type": "code",
   "execution_count": null,
   "id": "67e37318",
   "metadata": {},
   "outputs": [],
   "source": [
    "io = NWBHDF5IO(nwb_filepath, mode=\"r\")\n",
    "read_nwbfile = io.read()"
   ]
  },
  {
   "cell_type": "markdown",
   "id": "5deb8216-cea7-4b9a-9218-2c45ee39f421",
   "metadata": {},
   "source": [
    "## 3.2 Plot the ``EventsTable``, ``ActionsTable``, and ``StatesTable``"
   ]
  },
  {
   "cell_type": "markdown",
   "id": "21233ee8-8651-496c-93d5-982f08beb3c9",
   "metadata": {},
   "source": [
    "The ``plot_events``, ``plot_actions``, and ``plot_states`` functions can consume both the raw table as well as a subset of the table as a pandas DataFrame created through slicing, e.g., via ``states[0:60]``"
   ]
  },
  {
   "cell_type": "code",
   "execution_count": null,
   "id": "a67e35cf-cf6d-41b0-9c2b-9e354a710317",
   "metadata": {},
   "outputs": [],
   "source": [
    "# Get the EventsTable from file\n",
    "events = read_nwbfile.get_acquisition(\"events\")\n",
    "\n",
    "# Plot the data\n",
    "fig = plot_events(events=events,\n",
    "                  event_types=event_types,\n",
    "                  show_event_values=True,\n",
    "                  figsize=(18,4),\n",
    "                  marker_size=500)\n",
    "plt.title(\"Events\", fontsize=18)\n",
    "plt.show()"
   ]
  },
  {
   "cell_type": "code",
   "execution_count": null,
   "id": "a34af534-7d83-4e1a-ac69-bff0910d5b79",
   "metadata": {},
   "outputs": [],
   "source": [
    "# Get the ActionsTable from file\n",
    "actions = read_nwbfile.get_acquisition(\"actions\")\n",
    "\n",
    "# Plot the data\n",
    "fig = plot_actions(actions=actions,\n",
    "                   action_types=action_types,\n",
    "                   show_action_values=True,\n",
    "                   figsize=(18,1.5),\n",
    "                   marker_size=500)\n",
    "plt.show()"
   ]
  },
  {
   "cell_type": "code",
   "execution_count": null,
   "id": "5b7b7baa-ebc6-40a2-b3c7-27b5f01d39c3",
   "metadata": {},
   "outputs": [],
   "source": [
    "# Get the StatesTable from file\n",
    "states = read_nwbfile.get_acquisition(\"states\")\n",
    "\n",
    "# Plot the data\n",
    "plot_states(states=states,\n",
    "            state_types=state_types,\n",
    "            marker_size=500)\n",
    "plt.show()"
   ]
  },
  {
   "cell_type": "markdown",
   "id": "7145e631-1535-4de5-bafe-679c74edd43f",
   "metadata": {},
   "source": [
    "## 3.3 Plot the ``TrialsTable``"
   ]
  },
  {
   "cell_type": "code",
   "execution_count": null,
   "id": "0fb6f101-759a-4646-8a84-8f0574096cfd",
   "metadata": {},
   "outputs": [],
   "source": [
    "# Get the TrialsTable from file\n",
    "trials = read_nwbfile.trials\n",
    "\n",
    "# Plot trial 46 - 50\n",
    "plot_trials(\n",
    "    trials=trials[46:51],\n",
    "    states=states, state_types=state_types,\n",
    "    actions=actions, action_types=action_types,\n",
    "    events=events, event_types=event_types,\n",
    "    figsize=None,\n",
    "    fontsize=18,\n",
    "    rectangle_height=1,\n",
    "    marker_size=500)\n",
    "plt.show()"
   ]
  },
  {
   "cell_type": "markdown",
   "id": "de5b8a1f-d962-48bc-9463-f1f696fc5026",
   "metadata": {},
   "source": [
    "## 3.4 Compute and plot the state transition matrix"
   ]
  },
  {
   "cell_type": "markdown",
   "id": "f8eccb1b-4ca5-4f72-9f68-24c85402d925",
   "metadata": {},
   "source": [
    "Here we compute the state transition matrix for all states throughout the experiment. However, simply by subsetting the ``StatesTable`` we can also create the transition matrix for any subset of state transitions, e.g., by selecting only the states from a subset of trials based on the ``TrialsTable``"
   ]
  },
  {
   "cell_type": "code",
   "execution_count": null,
   "id": "b9cf2b04-eb14-4cd1-9d08-e993141c292e",
   "metadata": {},
   "outputs": [],
   "source": [
    "# Get the StatesTable from file\n",
    "states = read_nwbfile.get_acquisition(\"states\")\n",
    "\n",
    "# Compute the transition count and probablity matrix\n",
    "state_transition_count_df, state_transition_probability_df = compute_state_transition_matrix(states=states, state_types=state_types)"
   ]
  },
  {
   "cell_type": "code",
   "execution_count": null,
   "id": "2dfb569c-08b5-45c1-8535-d107bea78f67",
   "metadata": {},
   "outputs": [],
   "source": [
    "display(state_transition_count_df)\n",
    "display(state_transition_probability_df)"
   ]
  },
  {
   "cell_type": "code",
   "execution_count": null,
   "id": "0dc2be50-122e-46e8-ad71-552d62eba5b5",
   "metadata": {},
   "outputs": [],
   "source": [
    "fig = plot_state_transition_graph(\n",
    "    state_transition_probability_df,\n",
    "    figsize=(13,7),\n",
    "    edge_color='darkblue',\n",
    "    edge_font_color='darkblue',\n",
    "    node_font_color='red',\n",
    "    fontsize=14\n",
    ")\n",
    "plt.show()"
   ]
  },
  {
   "cell_type": "code",
   "execution_count": null,
   "id": "218bcc64-152c-4c34-86a0-e0e931183db7",
   "metadata": {},
   "outputs": [],
   "source": []
  }
 ],
 "metadata": {
  "kernelspec": {
   "display_name": "Python 3 (ipykernel)",
   "language": "python",
   "name": "python3"
  },
  "language_info": {
   "codemirror_mode": {
    "name": "ipython",
    "version": 3
   },
   "file_extension": ".py",
   "mimetype": "text/x-python",
   "name": "python",
   "nbconvert_exporter": "python",
   "pygments_lexer": "ipython3",
   "version": "3.9.7"
  }
 },
 "nbformat": 4,
 "nbformat_minor": 5
}
